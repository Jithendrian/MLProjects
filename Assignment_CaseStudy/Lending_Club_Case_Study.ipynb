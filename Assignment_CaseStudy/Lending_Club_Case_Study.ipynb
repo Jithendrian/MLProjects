{
 "cells": [
  {
   "cell_type": "code",
   "execution_count": 1,
   "id": "89ba1fca",
   "metadata": {},
   "outputs": [],
   "source": [
    "import numpy as np\n",
    "import pandas as pd\n",
    "import matplotlib.pyplot as plt\n",
    "import seaborn as sns"
   ]
  },
  {
   "cell_type": "code",
   "execution_count": 32,
   "id": "83fd82cb",
   "metadata": {},
   "outputs": [],
   "source": [
    "loan_data = pd.read_csv(\"loan.csv\")"
   ]
  },
  {
   "cell_type": "code",
   "execution_count": 33,
   "id": "0f57ac4f",
   "metadata": {},
   "outputs": [
    {
     "data": {
      "text/plain": [
       "(39717, 111)"
      ]
     },
     "execution_count": 33,
     "metadata": {},
     "output_type": "execute_result"
    }
   ],
   "source": [
    "loan_data.shape"
   ]
  },
  {
   "cell_type": "code",
   "execution_count": 34,
   "id": "c9769bb8",
   "metadata": {},
   "outputs": [
    {
     "data": {
      "text/plain": [
       "39717"
      ]
     },
     "execution_count": 34,
     "metadata": {},
     "output_type": "execute_result"
    }
   ],
   "source": [
    "total_rows = loan_data.shape[0]\n",
    "total_rows"
   ]
  },
  {
   "cell_type": "code",
   "execution_count": 35,
   "id": "7c952bf0",
   "metadata": {},
   "outputs": [
    {
     "data": {
      "text/plain": [
       "{'id': 0.0,\n",
       " 'member_id': 0.0,\n",
       " 'loan_amnt': 0.0,\n",
       " 'funded_amnt': 0.0,\n",
       " 'funded_amnt_inv': 0.0,\n",
       " 'term': 0.0,\n",
       " 'int_rate': 0.0,\n",
       " 'installment': 0.0,\n",
       " 'grade': 0.0,\n",
       " 'sub_grade': 0.0,\n",
       " 'emp_title': 6.191303472064859,\n",
       " 'emp_length': 2.7066495455346575,\n",
       " 'home_ownership': 0.0,\n",
       " 'annual_inc': 0.0,\n",
       " 'verification_status': 0.0,\n",
       " 'issue_d': 0.0,\n",
       " 'loan_status': 0.0,\n",
       " 'pymnt_plan': 0.0,\n",
       " 'url': 0.0,\n",
       " 'desc': 32.58050708764509,\n",
       " 'purpose': 0.0,\n",
       " 'title': 0.027695948838029054,\n",
       " 'zip_code': 0.0,\n",
       " 'addr_state': 0.0,\n",
       " 'dti': 0.0,\n",
       " 'delinq_2yrs': 0.0,\n",
       " 'earliest_cr_line': 0.0,\n",
       " 'inq_last_6mths': 0.0,\n",
       " 'mths_since_last_delinq': 64.66248709620565,\n",
       " 'mths_since_last_record': 92.98537150338646,\n",
       " 'open_acc': 0.0,\n",
       " 'pub_rec': 0.0,\n",
       " 'revol_bal': 0.0,\n",
       " 'revol_util': 0.12589067653649572,\n",
       " 'total_acc': 0.0,\n",
       " 'initial_list_status': 0.0,\n",
       " 'out_prncp': 0.0,\n",
       " 'out_prncp_inv': 0.0,\n",
       " 'total_pymnt': 0.0,\n",
       " 'total_pymnt_inv': 0.0,\n",
       " 'total_rec_prncp': 0.0,\n",
       " 'total_rec_int': 0.0,\n",
       " 'total_rec_late_fee': 0.0,\n",
       " 'recoveries': 0.0,\n",
       " 'collection_recovery_fee': 0.0,\n",
       " 'last_pymnt_d': 0.1787647606818239,\n",
       " 'last_pymnt_amnt': 0.0,\n",
       " 'next_pymnt_d': 97.12969257496789,\n",
       " 'last_credit_pull_d': 0.0050356270614598285,\n",
       " 'collections_12_mths_ex_med': 0.1409975577208752,\n",
       " 'mths_since_last_major_derog': 100.0,\n",
       " 'policy_code': 0.0,\n",
       " 'application_type': 0.0,\n",
       " 'annual_inc_joint': 100.0,\n",
       " 'dti_joint': 100.0,\n",
       " 'verification_status_joint': 100.0,\n",
       " 'acc_now_delinq': 0.0,\n",
       " 'tot_coll_amt': 100.0,\n",
       " 'tot_cur_bal': 100.0,\n",
       " 'open_acc_6m': 100.0,\n",
       " 'open_il_6m': 100.0,\n",
       " 'open_il_12m': 100.0,\n",
       " 'open_il_24m': 100.0,\n",
       " 'mths_since_rcnt_il': 100.0,\n",
       " 'total_bal_il': 100.0,\n",
       " 'il_util': 100.0,\n",
       " 'open_rv_12m': 100.0,\n",
       " 'open_rv_24m': 100.0,\n",
       " 'max_bal_bc': 100.0,\n",
       " 'all_util': 100.0,\n",
       " 'total_rev_hi_lim': 100.0,\n",
       " 'inq_fi': 100.0,\n",
       " 'total_cu_tl': 100.0,\n",
       " 'inq_last_12m': 100.0,\n",
       " 'acc_open_past_24mths': 100.0,\n",
       " 'avg_cur_bal': 100.0,\n",
       " 'bc_open_to_buy': 100.0,\n",
       " 'bc_util': 100.0,\n",
       " 'chargeoff_within_12_mths': 0.1409975577208752,\n",
       " 'delinq_amnt': 0.0,\n",
       " 'mo_sin_old_il_acct': 100.0,\n",
       " 'mo_sin_old_rev_tl_op': 100.0,\n",
       " 'mo_sin_rcnt_rev_tl_op': 100.0,\n",
       " 'mo_sin_rcnt_tl': 100.0,\n",
       " 'mort_acc': 100.0,\n",
       " 'mths_since_recent_bc': 100.0,\n",
       " 'mths_since_recent_bc_dlq': 100.0,\n",
       " 'mths_since_recent_inq': 100.0,\n",
       " 'mths_since_recent_revol_delinq': 100.0,\n",
       " 'num_accts_ever_120_pd': 100.0,\n",
       " 'num_actv_bc_tl': 100.0,\n",
       " 'num_actv_rev_tl': 100.0,\n",
       " 'num_bc_sats': 100.0,\n",
       " 'num_bc_tl': 100.0,\n",
       " 'num_il_tl': 100.0,\n",
       " 'num_op_rev_tl': 100.0,\n",
       " 'num_rev_accts': 100.0,\n",
       " 'num_rev_tl_bal_gt_0': 100.0,\n",
       " 'num_sats': 100.0,\n",
       " 'num_tl_120dpd_2m': 100.0,\n",
       " 'num_tl_30dpd': 100.0,\n",
       " 'num_tl_90g_dpd_24m': 100.0,\n",
       " 'num_tl_op_past_12m': 100.0,\n",
       " 'pct_tl_nvr_dlq': 100.0,\n",
       " 'percent_bc_gt_75': 100.0,\n",
       " 'pub_rec_bankruptcies': 1.7549160309187504,\n",
       " 'tax_liens': 0.09819472769846666,\n",
       " 'tot_hi_cred_lim': 100.0,\n",
       " 'total_bal_ex_mort': 100.0,\n",
       " 'total_bc_limit': 100.0,\n",
       " 'total_il_high_credit_limit': 100.0}"
      ]
     },
     "execution_count": 35,
     "metadata": {},
     "output_type": "execute_result"
    }
   ],
   "source": [
    "null_percentage_columns = {}\n",
    "#Finding out the percentage of null values in each columns\n",
    "for column in loan_data.columns:\n",
    "    null_values = loan_data[column].isnull()\n",
    "    number_of_null_values = null_values.sum()\n",
    "    percentage_of_null_values = (number_of_null_values/ total_rows) * 100\n",
    "    null_percentage_columns[column] = percentage_of_null_values\n",
    "null_percentage_columns"
   ]
  },
  {
   "cell_type": "code",
   "execution_count": 37,
   "id": "b3099189",
   "metadata": {},
   "outputs": [
    {
     "data": {
      "text/plain": [
       "<bound method DataFrame.info of             id  member_id  loan_amnt  funded_amnt  funded_amnt_inv  \\\n",
       "0      1077501    1296599       5000         5000           4975.0   \n",
       "1      1077430    1314167       2500         2500           2500.0   \n",
       "2      1077175    1313524       2400         2400           2400.0   \n",
       "3      1076863    1277178      10000        10000          10000.0   \n",
       "4      1075358    1311748       3000         3000           3000.0   \n",
       "...        ...        ...        ...          ...              ...   \n",
       "39712    92187      92174       2500         2500           1075.0   \n",
       "39713    90665      90607       8500         8500            875.0   \n",
       "39714    90395      90390       5000         5000           1325.0   \n",
       "39715    90376      89243       5000         5000            650.0   \n",
       "39716    87023      86999       7500         7500            800.0   \n",
       "\n",
       "             term int_rate  installment grade sub_grade  ...  \\\n",
       "0       36 months   10.65%       162.87     B        B2  ...   \n",
       "1       60 months   15.27%        59.83     C        C4  ...   \n",
       "2       36 months   15.96%        84.33     C        C5  ...   \n",
       "3       36 months   13.49%       339.31     C        C1  ...   \n",
       "4       60 months   12.69%        67.79     B        B5  ...   \n",
       "...           ...      ...          ...   ...       ...  ...   \n",
       "39712   36 months    8.07%        78.42     A        A4  ...   \n",
       "39713   36 months   10.28%       275.38     C        C1  ...   \n",
       "39714   36 months    8.07%       156.84     A        A4  ...   \n",
       "39715   36 months    7.43%       155.38     A        A2  ...   \n",
       "39716   36 months   13.75%       255.43     E        E2  ...   \n",
       "\n",
       "      num_tl_90g_dpd_24m num_tl_op_past_12m pct_tl_nvr_dlq  percent_bc_gt_75  \\\n",
       "0                    NaN                NaN            NaN               NaN   \n",
       "1                    NaN                NaN            NaN               NaN   \n",
       "2                    NaN                NaN            NaN               NaN   \n",
       "3                    NaN                NaN            NaN               NaN   \n",
       "4                    NaN                NaN            NaN               NaN   \n",
       "...                  ...                ...            ...               ...   \n",
       "39712                NaN                NaN            NaN               NaN   \n",
       "39713                NaN                NaN            NaN               NaN   \n",
       "39714                NaN                NaN            NaN               NaN   \n",
       "39715                NaN                NaN            NaN               NaN   \n",
       "39716                NaN                NaN            NaN               NaN   \n",
       "\n",
       "      pub_rec_bankruptcies tax_liens tot_hi_cred_lim total_bal_ex_mort  \\\n",
       "0                      0.0       0.0             NaN               NaN   \n",
       "1                      0.0       0.0             NaN               NaN   \n",
       "2                      0.0       0.0             NaN               NaN   \n",
       "3                      0.0       0.0             NaN               NaN   \n",
       "4                      0.0       0.0             NaN               NaN   \n",
       "...                    ...       ...             ...               ...   \n",
       "39712                  NaN       NaN             NaN               NaN   \n",
       "39713                  NaN       NaN             NaN               NaN   \n",
       "39714                  NaN       NaN             NaN               NaN   \n",
       "39715                  NaN       NaN             NaN               NaN   \n",
       "39716                  NaN       NaN             NaN               NaN   \n",
       "\n",
       "      total_bc_limit total_il_high_credit_limit  \n",
       "0                NaN                        NaN  \n",
       "1                NaN                        NaN  \n",
       "2                NaN                        NaN  \n",
       "3                NaN                        NaN  \n",
       "4                NaN                        NaN  \n",
       "...              ...                        ...  \n",
       "39712            NaN                        NaN  \n",
       "39713            NaN                        NaN  \n",
       "39714            NaN                        NaN  \n",
       "39715            NaN                        NaN  \n",
       "39716            NaN                        NaN  \n",
       "\n",
       "[39717 rows x 111 columns]>"
      ]
     },
     "execution_count": 37,
     "metadata": {},
     "output_type": "execute_result"
    }
   ],
   "source": [
    "#percentage of null more than 10 percentage will be removed\n",
    "threshold_value = 10\n",
    "loan_data.info"
   ]
  },
  {
   "cell_type": "code",
   "execution_count": 38,
   "id": "53813a33",
   "metadata": {},
   "outputs": [
    {
     "data": {
      "text/plain": [
       "['desc',\n",
       " 'mths_since_last_delinq',\n",
       " 'mths_since_last_record',\n",
       " 'next_pymnt_d',\n",
       " 'mths_since_last_major_derog',\n",
       " 'annual_inc_joint',\n",
       " 'dti_joint',\n",
       " 'verification_status_joint',\n",
       " 'tot_coll_amt',\n",
       " 'tot_cur_bal',\n",
       " 'open_acc_6m',\n",
       " 'open_il_6m',\n",
       " 'open_il_12m',\n",
       " 'open_il_24m',\n",
       " 'mths_since_rcnt_il',\n",
       " 'total_bal_il',\n",
       " 'il_util',\n",
       " 'open_rv_12m',\n",
       " 'open_rv_24m',\n",
       " 'max_bal_bc',\n",
       " 'all_util',\n",
       " 'total_rev_hi_lim',\n",
       " 'inq_fi',\n",
       " 'total_cu_tl',\n",
       " 'inq_last_12m',\n",
       " 'acc_open_past_24mths',\n",
       " 'avg_cur_bal',\n",
       " 'bc_open_to_buy',\n",
       " 'bc_util',\n",
       " 'mo_sin_old_il_acct',\n",
       " 'mo_sin_old_rev_tl_op',\n",
       " 'mo_sin_rcnt_rev_tl_op',\n",
       " 'mo_sin_rcnt_tl',\n",
       " 'mort_acc',\n",
       " 'mths_since_recent_bc',\n",
       " 'mths_since_recent_bc_dlq',\n",
       " 'mths_since_recent_inq',\n",
       " 'mths_since_recent_revol_delinq',\n",
       " 'num_accts_ever_120_pd',\n",
       " 'num_actv_bc_tl',\n",
       " 'num_actv_rev_tl',\n",
       " 'num_bc_sats',\n",
       " 'num_bc_tl',\n",
       " 'num_il_tl',\n",
       " 'num_op_rev_tl',\n",
       " 'num_rev_accts',\n",
       " 'num_rev_tl_bal_gt_0',\n",
       " 'num_sats',\n",
       " 'num_tl_120dpd_2m',\n",
       " 'num_tl_30dpd',\n",
       " 'num_tl_90g_dpd_24m',\n",
       " 'num_tl_op_past_12m',\n",
       " 'pct_tl_nvr_dlq',\n",
       " 'percent_bc_gt_75',\n",
       " 'tot_hi_cred_lim',\n",
       " 'total_bal_ex_mort',\n",
       " 'total_bc_limit',\n",
       " 'total_il_high_credit_limit']"
      ]
     },
     "execution_count": 38,
     "metadata": {},
     "output_type": "execute_result"
    }
   ],
   "source": [
    "null_columns_to_be_removed = []\n",
    "for key,values in null_percentage_columns.items():\n",
    "    if values > 10:\n",
    "        null_columns_to_be_removed.append(key)\n",
    "null_columns_to_be_removed\n"
   ]
  },
  {
   "cell_type": "code",
   "execution_count": 39,
   "id": "592d5e3b",
   "metadata": {},
   "outputs": [],
   "source": [
    "import warnings\n",
    "warnings.filterwarnings('ignore')\n"
   ]
  },
  {
   "cell_type": "code",
   "execution_count": 42,
   "id": "cbb71b9c",
   "metadata": {},
   "outputs": [
    {
     "data": {
      "text/plain": [
       "list"
      ]
     },
     "execution_count": 42,
     "metadata": {},
     "output_type": "execute_result"
    }
   ],
   "source": [
    "type(null_columns_to_be_removed)\n"
   ]
  },
  {
   "cell_type": "code",
   "execution_count": 47,
   "id": "fab65fad",
   "metadata": {},
   "outputs": [
    {
     "data": {
      "text/plain": [
       "RangeIndex(start=0, stop=58, step=1)"
      ]
     },
     "execution_count": 47,
     "metadata": {},
     "output_type": "execute_result"
    }
   ],
   "source": [
    "null_column_series = pd.Series(null_columns_to_be_removed)\n",
    "null_column_series.index"
   ]
  },
  {
   "cell_type": "code",
   "execution_count": 23,
   "id": "40e67a44",
   "metadata": {},
   "outputs": [
    {
     "data": {
      "text/plain": [
       "<bound method DataFrame.info of             id  member_id  loan_amnt  funded_amnt  funded_amnt_inv  \\\n",
       "0      1077501    1296599       5000         5000           4975.0   \n",
       "1      1077430    1314167       2500         2500           2500.0   \n",
       "2      1077175    1313524       2400         2400           2400.0   \n",
       "3      1076863    1277178      10000        10000          10000.0   \n",
       "4      1075358    1311748       3000         3000           3000.0   \n",
       "...        ...        ...        ...          ...              ...   \n",
       "39712    92187      92174       2500         2500           1075.0   \n",
       "39713    90665      90607       8500         8500            875.0   \n",
       "39714    90395      90390       5000         5000           1325.0   \n",
       "39715    90376      89243       5000         5000            650.0   \n",
       "39716    87023      86999       7500         7500            800.0   \n",
       "\n",
       "             term int_rate  installment grade sub_grade  ... last_pymnt_amnt  \\\n",
       "0       36 months   10.65%       162.87     B        B2  ...          171.62   \n",
       "1       60 months   15.27%        59.83     C        C4  ...          119.66   \n",
       "2       36 months   15.96%        84.33     C        C5  ...          649.91   \n",
       "3       36 months   13.49%       339.31     C        C1  ...          357.48   \n",
       "4       60 months   12.69%        67.79     B        B5  ...           67.79   \n",
       "...           ...      ...          ...   ...       ...  ...             ...   \n",
       "39712   36 months    8.07%        78.42     A        A4  ...           80.90   \n",
       "39713   36 months   10.28%       275.38     C        C1  ...          281.94   \n",
       "39714   36 months    8.07%       156.84     A        A4  ...            0.00   \n",
       "39715   36 months    7.43%       155.38     A        A2  ...            0.00   \n",
       "39716   36 months   13.75%       255.43     E        E2  ...          256.59   \n",
       "\n",
       "      last_credit_pull_d collections_12_mths_ex_med  policy_code  \\\n",
       "0                 May-16                        0.0            1   \n",
       "1                 Sep-13                        0.0            1   \n",
       "2                 May-16                        0.0            1   \n",
       "3                 Apr-16                        0.0            1   \n",
       "4                 May-16                        0.0            1   \n",
       "...                  ...                        ...          ...   \n",
       "39712             Jun-10                        NaN            1   \n",
       "39713             Jul-10                        NaN            1   \n",
       "39714             Jun-07                        NaN            1   \n",
       "39715             Jun-07                        NaN            1   \n",
       "39716             Jun-10                        NaN            1   \n",
       "\n",
       "      application_type acc_now_delinq chargeoff_within_12_mths delinq_amnt  \\\n",
       "0           INDIVIDUAL              0                      0.0           0   \n",
       "1           INDIVIDUAL              0                      0.0           0   \n",
       "2           INDIVIDUAL              0                      0.0           0   \n",
       "3           INDIVIDUAL              0                      0.0           0   \n",
       "4           INDIVIDUAL              0                      0.0           0   \n",
       "...                ...            ...                      ...         ...   \n",
       "39712       INDIVIDUAL              0                      NaN           0   \n",
       "39713       INDIVIDUAL              0                      NaN           0   \n",
       "39714       INDIVIDUAL              0                      NaN           0   \n",
       "39715       INDIVIDUAL              0                      NaN           0   \n",
       "39716       INDIVIDUAL              0                      NaN           0   \n",
       "\n",
       "      pub_rec_bankruptcies tax_liens  \n",
       "0                      0.0       0.0  \n",
       "1                      0.0       0.0  \n",
       "2                      0.0       0.0  \n",
       "3                      0.0       0.0  \n",
       "4                      0.0       0.0  \n",
       "...                    ...       ...  \n",
       "39712                  NaN       NaN  \n",
       "39713                  NaN       NaN  \n",
       "39714                  NaN       NaN  \n",
       "39715                  NaN       NaN  \n",
       "39716                  NaN       NaN  \n",
       "\n",
       "[39717 rows x 53 columns]>"
      ]
     },
     "execution_count": 23,
     "metadata": {},
     "output_type": "execute_result"
    }
   ],
   "source": [
    "loan_data.info"
   ]
  },
  {
   "cell_type": "code",
   "execution_count": 27,
   "id": "02d8b419",
   "metadata": {},
   "outputs": [
    {
     "data": {
      "text/plain": [
       "['pymnt_plan',\n",
       " 'initial_list_status',\n",
       " 'collections_12_mths_ex_med',\n",
       " 'policy_code',\n",
       " 'application_type',\n",
       " 'acc_now_delinq',\n",
       " 'chargeoff_within_12_mths',\n",
       " 'delinq_amnt',\n",
       " 'tax_liens']"
      ]
     },
     "execution_count": 27,
     "metadata": {},
     "output_type": "execute_result"
    }
   ],
   "source": [
    "#To find the common values for all rows\n",
    "sameValuesList = []\n",
    "for column in loan_data.columns:\n",
    "    valuesSeries = loan_data[column]\n",
    "    result = valuesSeries.dropna()\n",
    "    if(len(set(result.tolist()))) == 1:\n",
    "        sameValuesList.append(column)\n",
    "sameValuesList"
   ]
  },
  {
   "cell_type": "code",
   "execution_count": 29,
   "id": "255ee18c",
   "metadata": {},
   "outputs": [
    {
     "data": {
      "text/plain": [
       "['delinq_2yrs',\n",
       " 'revol_bal',\n",
       " 'out_prncp',\n",
       " 'total_pymnt',\n",
       " 'total_rec_prncp',\n",
       " 'total_rec_int',\n",
       " 'total_rec_late_fee',\n",
       " 'recoveries',\n",
       " 'collection_recovery_fee',\n",
       " 'last_pymnt_d',\n",
       " 'last_pymnt_amnt',\n",
       " 'next_pymnt_d',\n",
       " 'mths_since_last_delinq',\n",
       " 'mths_since_last_record']"
      ]
     },
     "execution_count": 29,
     "metadata": {},
     "output_type": "execute_result"
    }
   ],
   "source": [
    "#post approval, we dont need to take for analysis\n",
    "\n",
    "post_approval = ['delinq_2yrs',\n",
    "    'revol_bal',\n",
    "    'out_prncp',\n",
    "    'total_pymnt',\n",
    "    'total_rec_prncp',\n",
    "    'total_rec_int',\n",
    "    'total_rec_late_fee',\n",
    "    'recoveries',\n",
    "    'collection_recovery_fee',\n",
    "    'last_pymnt_d',\n",
    "    'last_pymnt_amnt',\n",
    "    'next_pymnt_d',\n",
    "    'mths_since_last_delinq',\n",
    "    'mths_since_last_record']\n",
    "post_approval"
   ]
  },
  {
   "cell_type": "code",
   "execution_count": 30,
   "id": "ab0ec625",
   "metadata": {},
   "outputs": [
    {
     "data": {
      "text/plain": [
       "<bound method DataFrame.info of             id  member_id  loan_amnt  funded_amnt  funded_amnt_inv  \\\n",
       "0      1077501    1296599       5000         5000           4975.0   \n",
       "1      1077430    1314167       2500         2500           2500.0   \n",
       "2      1077175    1313524       2400         2400           2400.0   \n",
       "3      1076863    1277178      10000        10000          10000.0   \n",
       "4      1075358    1311748       3000         3000           3000.0   \n",
       "...        ...        ...        ...          ...              ...   \n",
       "39712    92187      92174       2500         2500           1075.0   \n",
       "39713    90665      90607       8500         8500            875.0   \n",
       "39714    90395      90390       5000         5000           1325.0   \n",
       "39715    90376      89243       5000         5000            650.0   \n",
       "39716    87023      86999       7500         7500            800.0   \n",
       "\n",
       "             term int_rate  installment grade sub_grade  ... total_pymnt_inv  \\\n",
       "0       36 months   10.65%       162.87     B        B2  ...         5833.84   \n",
       "1       60 months   15.27%        59.83     C        C4  ...         1008.71   \n",
       "2       36 months   15.96%        84.33     C        C5  ...         3005.67   \n",
       "3       36 months   13.49%       339.31     C        C1  ...        12231.89   \n",
       "4       60 months   12.69%        67.79     B        B5  ...         3513.33   \n",
       "...           ...      ...          ...   ...       ...  ...             ...   \n",
       "39712   36 months    8.07%        78.42     A        A4  ...         1213.88   \n",
       "39713   36 months   10.28%       275.38     C        C1  ...         1020.51   \n",
       "39714   36 months    8.07%       156.84     A        A4  ...         1397.12   \n",
       "39715   36 months    7.43%       155.38     A        A2  ...          672.66   \n",
       "39716   36 months   13.75%       255.43     E        E2  ...          980.83   \n",
       "\n",
       "      last_credit_pull_d collections_12_mths_ex_med  policy_code  \\\n",
       "0                 May-16                        0.0            1   \n",
       "1                 Sep-13                        0.0            1   \n",
       "2                 May-16                        0.0            1   \n",
       "3                 Apr-16                        0.0            1   \n",
       "4                 May-16                        0.0            1   \n",
       "...                  ...                        ...          ...   \n",
       "39712             Jun-10                        NaN            1   \n",
       "39713             Jul-10                        NaN            1   \n",
       "39714             Jun-07                        NaN            1   \n",
       "39715             Jun-07                        NaN            1   \n",
       "39716             Jun-10                        NaN            1   \n",
       "\n",
       "      application_type acc_now_delinq chargeoff_within_12_mths delinq_amnt  \\\n",
       "0           INDIVIDUAL              0                      0.0           0   \n",
       "1           INDIVIDUAL              0                      0.0           0   \n",
       "2           INDIVIDUAL              0                      0.0           0   \n",
       "3           INDIVIDUAL              0                      0.0           0   \n",
       "4           INDIVIDUAL              0                      0.0           0   \n",
       "...                ...            ...                      ...         ...   \n",
       "39712       INDIVIDUAL              0                      NaN           0   \n",
       "39713       INDIVIDUAL              0                      NaN           0   \n",
       "39714       INDIVIDUAL              0                      NaN           0   \n",
       "39715       INDIVIDUAL              0                      NaN           0   \n",
       "39716       INDIVIDUAL              0                      NaN           0   \n",
       "\n",
       "      pub_rec_bankruptcies tax_liens  \n",
       "0                      0.0       0.0  \n",
       "1                      0.0       0.0  \n",
       "2                      0.0       0.0  \n",
       "3                      0.0       0.0  \n",
       "4                      0.0       0.0  \n",
       "...                    ...       ...  \n",
       "39712                  NaN       NaN  \n",
       "39713                  NaN       NaN  \n",
       "39714                  NaN       NaN  \n",
       "39715                  NaN       NaN  \n",
       "39716                  NaN       NaN  \n",
       "\n",
       "[39717 rows x 42 columns]>"
      ]
     },
     "execution_count": 30,
     "metadata": {},
     "output_type": "execute_result"
    }
   ],
   "source": [
    "existing_columns = loan_data.columns\n",
    "for i in post_approval:\n",
    "    if i in existing_columns:\n",
    "        loan_data.drop([i], axis=1, inplace=True)\n",
    "loan_data.info"
   ]
  }
 ],
 "metadata": {
  "kernelspec": {
   "display_name": "Python 3 (ipykernel)",
   "language": "python",
   "name": "python3"
  },
  "language_info": {
   "codemirror_mode": {
    "name": "ipython",
    "version": 3
   },
   "file_extension": ".py",
   "mimetype": "text/x-python",
   "name": "python",
   "nbconvert_exporter": "python",
   "pygments_lexer": "ipython3",
   "version": "3.10.9"
  }
 },
 "nbformat": 4,
 "nbformat_minor": 5
}
